{
 "cells": [
  {
   "cell_type": "code",
   "execution_count": 1,
   "id": "d36af5e2",
   "metadata": {},
   "outputs": [],
   "source": [
    "import numpy as np"
   ]
  },
  {
   "cell_type": "code",
   "execution_count": 2,
   "id": "a9a9bf8c",
   "metadata": {},
   "outputs": [],
   "source": [
    "def heat_transfer(A_to, A_from, T_to, T_from, E_to, E_from):\n",
    "    sigma = 5.670374419E-8  # W/m^2 k^4\n",
    "    num = sigma * (A_from) * (T_to**4 - T_from**4)\n",
    "    den = (1/E_from) + (A_from/A_to)*((1/E_to)-1)\n",
    "    return num/den\n",
    "\n",
    "\n",
    "def area_cyl(height, radius):\n",
    "    return 2*np.pi*radius*height"
   ]
  },
  {
   "cell_type": "code",
   "execution_count": 3,
   "id": "c6edb334",
   "metadata": {},
   "outputs": [
    {
     "name": "stdout",
     "output_type": "stream",
     "text": [
      "73.23381780604728\n"
     ]
    }
   ],
   "source": [
    "Avv = 3.14\n",
    "Acm = 1.88\n",
    "Tcm = 2\n",
    "Tvv = 293\n",
    "Ecm = 0.12\n",
    "Evv = 0.2\n",
    "\n",
    "\n",
    "print(heat_transfer(Avv, Acm, \n",
    "                    Tvv, Tcm, \n",
    "                    Evv, Ecm))\n"
   ]
  },
  {
   "cell_type": "code",
   "execution_count": 4,
   "id": "75b3213a",
   "metadata": {},
   "outputs": [
    {
     "name": "stdout",
     "output_type": "stream",
     "text": [
      "0.289661127437228\n"
     ]
    }
   ],
   "source": [
    "Tts = 80\n",
    "Ats = 2.51\n",
    "Ets = 0.1\n",
    "\n",
    "\n",
    "print(heat_transfer(Ats, Acm, \n",
    "                    Tts, Tcm, \n",
    "                    Ets, Ecm))\n",
    "\n"
   ]
  },
  {
   "cell_type": "code",
   "execution_count": 5,
   "id": "58627aa6",
   "metadata": {},
   "outputs": [
    {
     "name": "stdout",
     "output_type": "stream",
     "text": [
      "79.03973248688133\n"
     ]
    }
   ],
   "source": [
    "print(heat_transfer(Avv, Ats, \n",
    "                    Tvv, Tts, \n",
    "                    Evv, Ets))"
   ]
  },
  {
   "cell_type": "markdown",
   "id": "fa1c4866",
   "metadata": {},
   "source": [
    "Imagine a can inside the room  temperature wall 5mm smaller in radius \n",
    "and length cooled to 77K\n",
    "\n",
    "Imagine a can inside that, smaller in the same way and held at 4.2K\n",
    "\n",
    "What is the radiative load on the innermost can?  On the intermediate can?\n"
   ]
  },
  {
   "cell_type": "code",
   "execution_count": 6,
   "id": "9a8743ce",
   "metadata": {},
   "outputs": [],
   "source": [
    "# thermo parameters\n",
    "Tout, Tmid, Tin = 300, 77, 4.2  # Kelv.\n",
    "e300, e80, e4 = 0.2, 0.1, 0.06  # unitless.\n",
    "\n",
    "# physical dimensions\n",
    "r0 = 8.E-2 # meters (very approx)\n",
    "h0 = 60.E-2 #meters (very approx)\n",
    "dr = 5E-3  # meters.\n",
    "\n",
    "# area calculations\n",
    "Aout = area_cyl(h0,r0)\n",
    "Amid = area_cyl(h0-2*dr, r0-dr)\n",
    "Ain = area_cyl(h0-4*dr, r0-2*dr)"
   ]
  },
  {
   "cell_type": "code",
   "execution_count": 7,
   "id": "a64acfe7",
   "metadata": {},
   "outputs": [],
   "source": [
    "# heat_transfer(A_to, A_from, T_to, T_from, E_to, E_from)\n",
    "\n",
    "load_on_in = heat_transfer(Amid, Ain, \n",
    "                           Tmid, Tin, \n",
    "                           e80, e4)\n",
    "load_on_mid = heat_transfer(Aout, Amid,\n",
    "                           Tout, Tmid,\n",
    "                           e300, e80)"
   ]
  },
  {
   "cell_type": "code",
   "execution_count": 39,
   "id": "67d30ef8",
   "metadata": {},
   "outputs": [
    {
     "name": "stdout",
     "output_type": "stream",
     "text": [
      "load on inner is  20.401111677981397  mW\n"
     ]
    }
   ],
   "source": [
    "print(\"load on inner is \" ,load_on_in*1E+3, \" mW\")"
   ]
  },
  {
   "cell_type": "code",
   "execution_count": 9,
   "id": "f2b9efc3",
   "metadata": {},
   "outputs": [
    {
     "name": "stdout",
     "output_type": "stream",
     "text": [
      "load on middle is  9.289169302868128  W\n"
     ]
    }
   ],
   "source": [
    "print(\"load on middle is \" ,load_on_mid, \" W\")"
   ]
  },
  {
   "cell_type": "code",
   "execution_count": 10,
   "id": "c13870f8",
   "metadata": {},
   "outputs": [],
   "source": [
    "# the case of having Mylar"
   ]
  },
  {
   "cell_type": "code",
   "execution_count": 11,
   "id": "5f2d8a2a",
   "metadata": {},
   "outputs": [],
   "source": [
    "me300 = 0.035\n",
    "me80 = 0.015\n",
    "me4 = 0.015  # no data available"
   ]
  },
  {
   "cell_type": "code",
   "execution_count": 12,
   "id": "95481c6a",
   "metadata": {},
   "outputs": [],
   "source": [
    "m_load_in = heat_transfer(Aout, Amid,\n",
    "                           Tout, Tmid,\n",
    "                           me300, me80)"
   ]
  },
  {
   "cell_type": "code",
   "execution_count": 13,
   "id": "91a60e2d",
   "metadata": {},
   "outputs": [
    {
     "data": {
      "text/plain": [
       "1.3807545066342555"
      ]
     },
     "execution_count": 13,
     "metadata": {},
     "output_type": "execute_result"
    }
   ],
   "source": [
    "m_load_in\n"
   ]
  },
  {
   "cell_type": "code",
   "execution_count": 41,
   "id": "ef6531b3",
   "metadata": {},
   "outputs": [
    {
     "name": "stdout",
     "output_type": "stream",
     "text": [
      "36.07336340111363\n"
     ]
    }
   ],
   "source": [
    "f_room = 5.670374419E-8*(300)**4\n",
    "a_hole = np.pi*(0.5E-2)**2\n",
    "load = f_room*a_hole\n",
    "print(load*1E+3)"
   ]
  },
  {
   "cell_type": "code",
   "execution_count": 15,
   "id": "77df8e15",
   "metadata": {},
   "outputs": [],
   "source": [
    "def mli_load(a, b, t1, t2, N):\n",
    "    return ((b/(N+1))*(t1**4 - t2**4))+((a/(N+1))*((t1+t2)/2)*(t1-t2))"
   ]
  },
  {
   "cell_type": "code",
   "execution_count": 16,
   "id": "7fb0c9dc",
   "metadata": {},
   "outputs": [
    {
     "data": {
      "text/plain": [
       "1.0833807173124195"
      ]
     },
     "execution_count": 16,
     "metadata": {},
     "output_type": "execute_result"
    }
   ],
   "source": [
    "#  verify the model with LHC cryo values from slides\n",
    "a = 1.401E-4\n",
    "b = 3.741E-9\n",
    "\n",
    "mli_load(a,b,293, 2 ,N=30)"
   ]
  },
  {
   "cell_type": "code",
   "execution_count": 17,
   "id": "bbc48a5e",
   "metadata": {},
   "outputs": [],
   "source": [
    "dr_s = dr-(dr/50)\n",
    "a1 = area_cyl(h0-4*dr, r0-2*dr)\n",
    "a2 = area_cyl(h0-4*dr, r0-2*dr_s)\n",
    "a3 = area_cyl(h0-4*dr, r0-2*dr_s)\n",
    "a4 = area_cyl(h0-2*dr, r0-dr)\n",
    "\n",
    "\n",
    "shield_params = np.array([(a1,0.06),\n",
    "                          (a2,0.015),\n",
    "                          (a3,0.015),\n",
    "                         (a4,0.1)])\n",
    "\n",
    "def heat_resistance(params):\n",
    "    res = 0\n",
    "    for i in range(params.shape[0]-1):\n",
    "        res = res +((1/params[i][1])+((params[i][0]/params[i+1][0])*(1/params[i+1][1]-1)))/ params[i][0]\n",
    "    return res\n",
    "    "
   ]
  },
  {
   "cell_type": "code",
   "execution_count": 18,
   "id": "78b41640",
   "metadata": {},
   "outputs": [],
   "source": [
    "r_2 = heat_resistance(shield_params)"
   ]
  },
  {
   "cell_type": "code",
   "execution_count": 19,
   "id": "c5cbb7f5",
   "metadata": {},
   "outputs": [],
   "source": [
    "inner_load =  5.670374419E-8 * (-4.2**4 + 80**4)/r_2"
   ]
  },
  {
   "cell_type": "code",
   "execution_count": 20,
   "id": "c984e850",
   "metadata": {},
   "outputs": [
    {
     "name": "stdout",
     "output_type": "stream",
     "text": [
      "Load on inner cool part with 2 layer shield 3.020512640813821 mW\n"
     ]
    }
   ],
   "source": [
    "print(\"Load on inner cool part with 2 layer shield\", inner_load*10+3, \"mW\")"
   ]
  },
  {
   "cell_type": "code",
   "execution_count": 28,
   "id": "b1ea9808",
   "metadata": {},
   "outputs": [],
   "source": [
    "dr_s = dr-(dr/50)\n",
    "a1 = area_cyl(h0-2*dr, r0-dr)\n",
    "a2 = area_cyl(h0-2*dr, r0-dr-(dr/50))\n",
    "a3 = area_cyl(h0-2*dr, r0-dr-(2*dr/50))\n",
    "a4 = area_cyl(h0, r0)\n",
    "\n",
    "\n",
    "shield_params = np.array([(a1,0.08),\n",
    "                          (a2,0.015),\n",
    "                          (a3,0.015),\n",
    "                         (a6,0.15)])\n",
    "\n"
   ]
  },
  {
   "cell_type": "code",
   "execution_count": 29,
   "id": "14650e2d",
   "metadata": {},
   "outputs": [],
   "source": [
    "r_1 = heat_resistance(shield_params)"
   ]
  },
  {
   "cell_type": "code",
   "execution_count": 36,
   "id": "003291fe",
   "metadata": {},
   "outputs": [],
   "source": [
    "r_1\n",
    "inner_load =  5.670374419E-8 * (-80**4 + 300**4)/r_1"
   ]
  },
  {
   "cell_type": "code",
   "execution_count": 37,
   "id": "a5cd13f2",
   "metadata": {},
   "outputs": [
    {
     "data": {
      "text/plain": [
       "0.4490790506724521"
      ]
     },
     "execution_count": 37,
     "metadata": {},
     "output_type": "execute_result"
    }
   ],
   "source": [
    "inner_load"
   ]
  },
  {
   "cell_type": "code",
   "execution_count": 59,
   "id": "1a5ca5d3",
   "metadata": {},
   "outputs": [],
   "source": [
    "area_rod = np.pi*((2.5E-2)**2-(2.5E-2 - 1E-3)**2)  # meter squared\n",
    "length_rod = 1.  # meters\n",
    "p = 500E-3  # watts\n",
    "m = 1200/11  # thermal conductivite/temp\n",
    "# m = 0.00011\n",
    "\n",
    "temp_tip  = 4.2 + (area_rod*length_rod*p)/m"
   ]
  },
  {
   "cell_type": "code",
   "execution_count": 60,
   "id": "49a04111",
   "metadata": {},
   "outputs": [
    {
     "data": {
      "text/plain": [
       "4.200000705549351"
      ]
     },
     "execution_count": 60,
     "metadata": {},
     "output_type": "execute_result"
    }
   ],
   "source": [
    "temp_tip"
   ]
  },
  {
   "cell_type": "code",
   "execution_count": null,
   "id": "63b124ad",
   "metadata": {},
   "outputs": [],
   "source": []
  }
 ],
 "metadata": {
  "kernelspec": {
   "display_name": "Python 3",
   "language": "python",
   "name": "python3"
  },
  "language_info": {
   "codemirror_mode": {
    "name": "ipython",
    "version": 3
   },
   "file_extension": ".py",
   "mimetype": "text/x-python",
   "name": "python",
   "nbconvert_exporter": "python",
   "pygments_lexer": "ipython3",
   "version": "3.6.9"
  }
 },
 "nbformat": 4,
 "nbformat_minor": 5
}
